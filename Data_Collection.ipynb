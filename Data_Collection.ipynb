{
  "nbformat": 4,
  "nbformat_minor": 0,
  "metadata": {
    "colab": {
      "name": "Data_Collection.ipynb",
      "provenance": [],
      "collapsed_sections": [],
      "authorship_tag": "ABX9TyMjChxG9sKexqJSc56i1OuS",
      "include_colab_link": true
    },
    "kernelspec": {
      "name": "python3",
      "display_name": "Python 3"
    },
    "language_info": {
      "name": "python"
    }
  },
  "cells": [
    {
      "cell_type": "markdown",
      "metadata": {
        "id": "view-in-github",
        "colab_type": "text"
      },
      "source": [
        "<a href=\"https://colab.research.google.com/github/Mitchelltonui/SignLanguageProject/blob/main/Data_Collection.ipynb\" target=\"_parent\"><img src=\"https://colab.research.google.com/assets/colab-badge.svg\" alt=\"Open In Colab\"/></a>"
      ]
    },
    {
      "cell_type": "markdown",
      "metadata": {
        "id": "5AhYbajIFm-R"
      },
      "source": [
        "\n",
        "**IMPORTING REQUIRED LIBRARIES**"
      ]
    },
    {
      "cell_type": "code",
      "metadata": {
        "id": "ZBdk-abo9nVy"
      },
      "source": [
        "import cv2 #this is for accessing the webcam,taking pictures or videos and image processing.\n",
        "import uuid\n",
        "import os #allows us to access\n",
        "import time"
      ],
      "execution_count": null,
      "outputs": []
    },
    {
      "cell_type": "markdown",
      "metadata": {
        "id": "k53bMv4zBCSF"
      },
      "source": [
        "**DEFINING SIGNING LABELS**"
      ]
    },
    {
      "cell_type": "markdown",
      "metadata": {
        "id": "GTBKm4SzBQdj"
      },
      "source": [
        "These are signing labels we shall train our model to identify "
      ]
    },
    {
      "cell_type": "code",
      "metadata": {
        "id": "V1kbji1zBbmm"
      },
      "source": [
        "labels = ['thumbsup','thumbsdown','thankyou','livelong']\n",
        "#for us to capture variations in the images collected,we shall have 20 images for each label\n",
        "num_imgs_per_label= 20"
      ],
      "execution_count": null,
      "outputs": []
    },
    {
      "cell_type": "markdown",
      "metadata": {
        "id": "p_gFiQXSCGAT"
      },
      "source": [
        "DIRECTORY STRUCTURE"
      ]
    },
    {
      "cell_type": "code",
      "metadata": {
        "id": "MywW1CReCM0R"
      },
      "source": [
        "IMAGE_PATH = os.path.join('Tensorflow','workspace','images','collectedimages')"
      ],
      "execution_count": null,
      "outputs": []
    },
    {
      "cell_type": "code",
      "metadata": {
        "id": "l0dN4JkcC_up"
      },
      "source": [
        "if not os.path.exists(IMAGE_PATH):\n",
        "    # runs this if you are in a linux/unix system\n",
        "    if os.name == 'posix':\n",
        "        !mkdir -p {IMAGE_PATH}\n",
        "        \n",
        "    # runs this if you are in a windows OS system\n",
        "    if os.name == 'nt':\n",
        "        !mkdir {IMAGE_PATH}\n",
        "        \n",
        "#creates our images folders for each label\n",
        "for label in labels:\n",
        "    path = os.path.join(IMAGE_PATH,label)\n",
        "    if not os.path.exists(path):\n",
        "        !mkdir {path}"
      ],
      "execution_count": null,
      "outputs": []
    },
    {
      "cell_type": "markdown",
      "metadata": {
        "id": "0Udf0atZD-ss"
      },
      "source": [
        "**CAPTURING IMAGES**"
      ]
    },
    {
      "cell_type": "markdown",
      "metadata": {
        "id": "x8Aetdy_EHPP"
      },
      "source": [
        "Collect training images from our webcam."
      ]
    },
    {
      "cell_type": "code",
      "metadata": {
        "id": "j2U6s7A5ENuv",
        "colab": {
          "base_uri": "https://localhost:8080/",
          "height": 252
        },
        "outputId": "d3dcd7e3-8938-40f0-b5d0-1959edd9bb71"
      },
      "source": [
        "for label in labels:\n",
        "  cap=cv2.VideoCapture(0) #loads the first camera (laptop webcam)\n",
        "  print('Collecting images for {}'.format(label))\n",
        "  time.sleep(5) # loads the camera and waits for 5 sec to take the first image\n",
        "  for imgnum in range(num_imgs_per_label): #for loop to take the defined number of images in every label.\n",
        "        print('Collecting image {}'.format(imgnum))\n",
        "        ret,frame = cap.read() #returns a tuple,(if image capture was succesful,returned image)\n",
        "        imgname = os.path.join(IMAGE_PATH,label,label+'{}.jpg'.format(str(uuid.uuid1()))) #image name with a unique id in the appropriate folder\n",
        "        cv2.imwrite(imgname,frame) #saves the image\n",
        "        cv2.imshow('frame',frame) #display the image\n",
        "        time.sleep(3) # wait 3 secs before taking another picture\n",
        "\n",
        "        #closes the videocapture loop if q is pressed\n",
        "        if cv2.waitKey(1) & 0xFF ==ord ('q'):\n",
        "            break\n",
        "cap.release()\n",
        "cv2.destroyAllWindows()\n"
      ],
      "execution_count": null,
      "outputs": [
        {
          "output_type": "stream",
          "name": "stdout",
          "text": [
            "Collecting images for thumbsup\n",
            "Collecting images for thumbsdown\n"
          ]
        },
        {
          "output_type": "error",
          "ename": "KeyboardInterrupt",
          "evalue": "ignored",
          "traceback": [
            "\u001b[0;31m---------------------------------------------------------------------------\u001b[0m",
            "\u001b[0;31mKeyboardInterrupt\u001b[0m                         Traceback (most recent call last)",
            "\u001b[0;32m<ipython-input-7-5a980085f289>\u001b[0m in \u001b[0;36m<module>\u001b[0;34m()\u001b[0m\n\u001b[1;32m      2\u001b[0m   \u001b[0mcap\u001b[0m\u001b[0;34m=\u001b[0m\u001b[0mcv2\u001b[0m\u001b[0;34m.\u001b[0m\u001b[0mVideoCapture\u001b[0m\u001b[0;34m(\u001b[0m\u001b[0;36m0\u001b[0m\u001b[0;34m)\u001b[0m \u001b[0;31m#loads the first camera (laptop webcam)\u001b[0m\u001b[0;34m\u001b[0m\u001b[0;34m\u001b[0m\u001b[0m\n\u001b[1;32m      3\u001b[0m   \u001b[0mprint\u001b[0m\u001b[0;34m(\u001b[0m\u001b[0;34m'Collecting images for {}'\u001b[0m\u001b[0;34m.\u001b[0m\u001b[0mformat\u001b[0m\u001b[0;34m(\u001b[0m\u001b[0mlabel\u001b[0m\u001b[0;34m)\u001b[0m\u001b[0;34m)\u001b[0m\u001b[0;34m\u001b[0m\u001b[0;34m\u001b[0m\u001b[0m\n\u001b[0;32m----> 4\u001b[0;31m   \u001b[0mtime\u001b[0m\u001b[0;34m.\u001b[0m\u001b[0msleep\u001b[0m\u001b[0;34m(\u001b[0m\u001b[0;36m5\u001b[0m\u001b[0;34m)\u001b[0m \u001b[0;31m# loads the camera and waits for 5 sec to take the first image\u001b[0m\u001b[0;34m\u001b[0m\u001b[0;34m\u001b[0m\u001b[0m\n\u001b[0m\u001b[1;32m      5\u001b[0m \u001b[0;34m\u001b[0m\u001b[0m\n",
            "\u001b[0;31mKeyboardInterrupt\u001b[0m: "
          ]
        }
      ]
    },
    {
      "cell_type": "markdown",
      "metadata": {
        "id": "vRnTRsEwF9qd"
      },
      "source": [
        "**INSTALLING LABELIMG**"
      ]
    },
    {
      "cell_type": "code",
      "metadata": {
        "colab": {
          "base_uri": "https://localhost:8080/"
        },
        "id": "pnfGDFnnGDA2",
        "outputId": "8574a1b8-25b5-40b8-9523-baa590c0f6df"
      },
      "source": [
        "!pip install --upgrade pyqt5 lxml"
      ],
      "execution_count": null,
      "outputs": [
        {
          "output_type": "stream",
          "name": "stdout",
          "text": [
            "Collecting pyqt5\n",
            "  Downloading PyQt5-5.15.6-cp36-abi3-manylinux1_x86_64.whl (8.3 MB)\n",
            "\u001b[K     |████████████████████████████████| 8.3 MB 4.9 MB/s \n",
            "\u001b[?25hRequirement already satisfied: lxml in /usr/local/lib/python3.7/dist-packages (4.2.6)\n",
            "Collecting lxml\n",
            "  Downloading lxml-4.6.4-cp37-cp37m-manylinux_2_17_x86_64.manylinux2014_x86_64.manylinux_2_24_x86_64.whl (6.3 MB)\n",
            "\u001b[K     |████████████████████████████████| 6.3 MB 62.5 MB/s \n",
            "\u001b[?25hCollecting PyQt5-Qt5>=5.15.2\n",
            "  Downloading PyQt5_Qt5-5.15.2-py3-none-manylinux2014_x86_64.whl (59.9 MB)\n",
            "\u001b[K     |████████████████████████████████| 59.9 MB 101 kB/s \n",
            "\u001b[?25hCollecting PyQt5-sip<13,>=12.8\n",
            "  Downloading PyQt5_sip-12.9.0-cp37-cp37m-manylinux1_x86_64.whl (317 kB)\n",
            "\u001b[K     |████████████████████████████████| 317 kB 69.4 MB/s \n",
            "\u001b[?25hInstalling collected packages: PyQt5-sip, PyQt5-Qt5, pyqt5, lxml\n",
            "  Attempting uninstall: lxml\n",
            "    Found existing installation: lxml 4.2.6\n",
            "    Uninstalling lxml-4.2.6:\n",
            "      Successfully uninstalled lxml-4.2.6\n",
            "Successfully installed PyQt5-Qt5-5.15.2 PyQt5-sip-12.9.0 lxml-4.6.4 pyqt5-5.15.6\n"
          ]
        }
      ]
    },
    {
      "cell_type": "code",
      "metadata": {
        "id": "YOkwPCP8Hx4L"
      },
      "source": [
        "#Creating the folder labelimg\n",
        "LABELIMG_PATH = os.path.join('Tensorflow','labelimg')"
      ],
      "execution_count": null,
      "outputs": []
    },
    {
      "cell_type": "code",
      "metadata": {
        "colab": {
          "base_uri": "https://localhost:8080/"
        },
        "id": "Ms69U5IzIBZq",
        "outputId": "4457a63a-556d-4f23-df81-c9e098d72918"
      },
      "source": [
        "if not os.path.exists(LABELIMG_PATH):\n",
        "    !mkdir {LABELIMG_PATH}\n",
        "    !git clone https://github.com/tzutalin/labelImg {LABELIMG_PATH}"
      ],
      "execution_count": null,
      "outputs": [
        {
          "output_type": "stream",
          "name": "stdout",
          "text": [
            "Cloning into 'Tensorflow/labelimg'...\n",
            "remote: Enumerating objects: 1923, done.\u001b[K\n",
            "remote: Counting objects: 100% (163/163), done.\u001b[K\n",
            "remote: Compressing objects: 100% (112/112), done.\u001b[K\n",
            "remote: Total 1923 (delta 78), reused 101 (delta 44), pack-reused 1760\u001b[K\n",
            "Receiving objects: 100% (1923/1923), 232.84 MiB | 41.92 MiB/s, done.\n",
            "Resolving deltas: 100% (1126/1126), done.\n"
          ]
        }
      ]
    },
    {
      "cell_type": "code",
      "metadata": {
        "id": "ZUsSu6jWI382"
      },
      "source": [
        "if os.name == 'nt':\n",
        "    !cd {LABELIMG_PATH} && pyrcc5 -o libs/resources.py resources.qrc"
      ],
      "execution_count": null,
      "outputs": []
    },
    {
      "cell_type": "code",
      "metadata": {
        "id": "hoNrPIRDcnYr",
        "colab": {
          "base_uri": "https://localhost:8080/"
        },
        "outputId": "6e0e4d7a-5211-4797-d3e8-2e3586ec74c5"
      },
      "source": [
        "!cd {LABELIMG_PATH} && python labelImg.py"
      ],
      "execution_count": null,
      "outputs": [
        {
          "output_type": "stream",
          "name": "stdout",
          "text": [
            "/bin/bash: line 0: cd: {LABELIMG_PATH}: No such file or directory\n"
          ]
        }
      ]
    },
    {
      "cell_type": "markdown",
      "source": [
        "**CREATING OUR TRAIN AND TEST PARTITIONS**"
      ],
      "metadata": {
        "id": "QaQUgtv-sM81"
      }
    },
    {
      "cell_type": "code",
      "source": [
        "TRAIN_PATH = os.path.join('Tensorflow','workspace','images','train')\n",
        "TEST_PATH = os.path.join('Tensorflow','workspace','images','test')"
      ],
      "metadata": {
        "id": "LjlPwbQmsTg1"
      },
      "execution_count": null,
      "outputs": []
    },
    {
      "cell_type": "code",
      "source": [
        "# this archive can be used to upload our data so we train on colab\n",
        "ARCHIVE_PATH = os.path.join('Tensorflow','workspace','images','archive.tar.gz')"
      ],
      "metadata": {
        "id": "0MJFHcDssYvb"
      },
      "execution_count": null,
      "outputs": []
    }
  ]
}